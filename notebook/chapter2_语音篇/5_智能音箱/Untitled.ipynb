{
 "cells": [
  {
   "cell_type": "code",
   "execution_count": 40,
   "metadata": {},
   "outputs": [],
   "source": [
    "import sys\n",
    "import os\n",
    "import yaml\n",
    "from aip import AipSpeech\n",
    "root_dir = \"../../../\"\n",
    "sys.path.append(root_dir)\n",
    "import snowboydecoder\n",
    "class XiaoBai:\n",
    "    def __init__(self,keyword_model,callback):\n",
    "        self.detector = snowboydecoder.HotwordDetector(keyword_model, sensitivity=0.5)\n",
    "        self._callback = callback\n",
    "        with open(root_dir+\"config.yaml\") as f:\n",
    "            config = yaml.load(f)\n",
    "            SLUG = 'baidu_yuyin'\n",
    "            APP_ID = config[SLUG]['app_id']\n",
    "            API_KEY = config[SLUG]['api_key']\n",
    "            SECRET_KEY = config[SLUG]['secret_key']\n",
    "            self.client = AipSpeech(APP_ID, API_KEY, SECRET_KEY)\n",
    "    def callback(self):\n",
    "            self.detector.terminate()\n",
    "            self._callback()\n",
    "            self.detector.start(detected_callback=self.callback,sleep_time=0.03)\n",
    "            \n",
    "    def listen_for_keyword(self):\n",
    "        try:\n",
    "            print('Listening...')\n",
    "            self.detector.start(detected_callback=self.callback,sleep_time=0.03)\n",
    "        except KeyboardInterrupt:\n",
    "            print('stop')\n",
    "        finally:\n",
    "            self.detector.terminate()            \n",
    "            \n",
    "    def listen_and_recognize(self,length = 4):\n",
    "        os.system(\"arecord -d %d -r 16000 -c 1 -t wav -f S16_LE record.wav\" % (length,) )    \n",
    "        with open(\"./record.wav\", 'rb') as fp:\n",
    "            res = self.client.asr(fp.read(), 'wav', 16000, { 'dev_pid': 1536,})\n",
    "            if res['err_no']==0:\n",
    "#                 print(res)\n",
    "                return res[\"result\"][0]\n",
    "            else:\n",
    "                print(res)\n",
    "                return \"\"\n",
    "    def speak(self,text = '你好百度',lang = 'zh',type = 1 , vol = 5):\n",
    "        result  = self.client.synthesis(text, lang, type, {'vol': vol,})\n",
    "        # 识别正确返回语音二进制 错误则返回dict 参照下面错误码\n",
    "        if not isinstance(result, dict):\n",
    "            with open('speak.mp3', 'wb') as f:\n",
    "                f.write(result)\n",
    "            os.system('mpg123 speak.mp3')\n",
    "        else:\n",
    "            print(result)\n",
    "if __name__ == '__main__':            \n",
    "    xiaobai = None\n",
    "    def callback():\n",
    "        global xiaobai\n",
    "        notify_sound = root_dir+'resources/ding.wav'\n",
    "        os.system(\"aplay \"+notify_sound)\n",
    "        print(\"key word detected\")\n",
    "        if xiaobai is not None:\n",
    "            res = xiaobai.listen_and_recognize()\n",
    "            print(res)\n",
    "            xiaobai.speak(res)\n",
    "        # to be add"
   ]
  },
  {
   "cell_type": "code",
   "execution_count": 41,
   "metadata": {},
   "outputs": [
    {
     "name": "stdout",
     "output_type": "stream",
     "text": [
      "Listening...\n",
      "stop\n"
     ]
    }
   ],
   "source": [
    "keyword_model = root_dir+'resources/小白.pmdl'\n",
    "xiaobai = XiaoBai(keyword_model=keyword_model,callback=callback)\n",
    "xiaobai.listen_for_keyword()"
   ]
  },
  {
   "cell_type": "code",
   "execution_count": null,
   "metadata": {},
   "outputs": [],
   "source": []
  }
 ],
 "metadata": {
  "kernelspec": {
   "display_name": "Python 3",
   "language": "python",
   "name": "python3"
  },
  "language_info": {
   "codemirror_mode": {
    "name": "ipython",
    "version": 3
   },
   "file_extension": ".py",
   "mimetype": "text/x-python",
   "name": "python",
   "nbconvert_exporter": "python",
   "pygments_lexer": "ipython3",
   "version": "3.5.3"
  }
 },
 "nbformat": 4,
 "nbformat_minor": 2
}
