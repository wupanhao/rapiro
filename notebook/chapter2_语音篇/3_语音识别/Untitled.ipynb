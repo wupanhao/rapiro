{
 "cells": [
  {
   "cell_type": "code",
   "execution_count": 1,
   "metadata": {},
   "outputs": [],
   "source": [
    "import yaml\n",
    "with open(\"../../../config.yaml\") as f:\n",
    "    config = yaml.load(f)"
   ]
  },
  {
   "cell_type": "code",
   "execution_count": 2,
   "metadata": {},
   "outputs": [
    {
     "data": {
      "text/plain": [
       "{'baidu_yuyin': {'api_key': 'lb5xCu4TxlBR3b8gNCUoDhxh',\n",
       "  'app_id': '8133661',\n",
       "  'secret_key': '4e9f5ece9649f33c52fffec93a375844'},\n",
       " 'homeassistant': {'password': '123789',\n",
       "  'port': '8123',\n",
       "  'url': 'http://localhost'},\n",
       " 'tuling': {'key': '40d8b5c842434c4e867603156e40cc37'}}"
      ]
     },
     "execution_count": 2,
     "metadata": {},
     "output_type": "execute_result"
    }
   ],
   "source": [
    "config"
   ]
  },
  {
   "cell_type": "code",
   "execution_count": 29,
   "metadata": {},
   "outputs": [],
   "source": [
    "from aip import AipSpeech\n",
    "import os\n",
    "\n",
    "#加载配置文件\n",
    "SLUG = 'baidu_yuyin'\n",
    "APP_ID = config[SLUG]['app_id']\n",
    "API_KEY = config[SLUG]['api_key']\n",
    "SECRET_KEY = config[SLUG]['secret_key']\n",
    "client = AipSpeech(APP_ID, API_KEY, SECRET_KEY)\n",
    "\n",
    "# 识别本地文件\n",
    "def listen_and_recognize(length = 4):\n",
    "    os.system(\"aplay ../../../resources/ding.wav\")    \n",
    "    os.system(\"arecord -d %d -r 16000 -c 1 -t wav -f S16_LE record.wav\" % (length,) )    \n",
    "    file = get_file_content(\"./record.wav\")\n",
    "    with open(\"./record.wav\", 'rb') as fp:\n",
    "        res = client.asr(fp.read(), 'wav', 16000, { 'dev_pid': 1536,})\n",
    "        return res\n",
    "\n",
    "def speak(text = '你好百度',lang = 'zh',type = 1 , vol = 5):\n",
    "    result  = client.synthesis(text, lang, type, {'vol': vol,})\n",
    "    # 识别正确返回语音二进制 错误则返回dict 参照下面错误码\n",
    "    if not isinstance(result, dict):\n",
    "        with open('speak.mp3', 'wb') as f:\n",
    "            f.write(result)\n",
    "        os.system('mpg123 speak.mp3')\n",
    "        return 1\n",
    "    else:\n",
    "        print(result)\n",
    "        return 0"
   ]
  },
  {
   "cell_type": "code",
   "execution_count": 11,
   "metadata": {},
   "outputs": [],
   "source": []
  },
  {
   "cell_type": "code",
   "execution_count": 28,
   "metadata": {},
   "outputs": [],
   "source": [
    "def record(length = 4):\n",
    "    os.system(\"aplay ../../../resources/ding.wav\")    \n",
    "    os.system(\"arecord -d %d -r 16000 -c 1 -t wav -f S16_LE record.wav\" % (length,) )\n",
    "record()"
   ]
  },
  {
   "cell_type": "code",
   "execution_count": 30,
   "metadata": {},
   "outputs": [
    {
     "data": {
      "text/plain": [
       "{'corpus_no': '6684406171391810991',\n",
       " 'err_msg': 'success.',\n",
       " 'err_no': 0,\n",
       " 'result': ['一二三四五六七八九十十一十二十三十四'],\n",
       " 'sn': '620904524851556334591'}"
      ]
     },
     "execution_count": 30,
     "metadata": {},
     "output_type": "execute_result"
    }
   ],
   "source": [
    "listen_and_recognize()"
   ]
  },
  {
   "cell_type": "code",
   "execution_count": 26,
   "metadata": {},
   "outputs": [
    {
     "data": {
      "text/plain": [
       "1"
      ]
     },
     "execution_count": 26,
     "metadata": {},
     "output_type": "execute_result"
    }
   ],
   "source": [
    "speak(\"哈哈哈哈哈啊哈\")"
   ]
  },
  {
   "cell_type": "code",
   "execution_count": null,
   "metadata": {},
   "outputs": [],
   "source": []
  }
 ],
 "metadata": {
  "kernelspec": {
   "display_name": "Python 3",
   "language": "python",
   "name": "python3"
  },
  "language_info": {
   "codemirror_mode": {
    "name": "ipython",
    "version": 3
   },
   "file_extension": ".py",
   "mimetype": "text/x-python",
   "name": "python",
   "nbconvert_exporter": "python",
   "pygments_lexer": "ipython3",
   "version": "3.5.3"
  }
 },
 "nbformat": 4,
 "nbformat_minor": 2
}
