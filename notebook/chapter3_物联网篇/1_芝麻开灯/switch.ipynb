{
 "cells": [
  {
   "cell_type": "code",
   "execution_count": 4,
   "metadata": {},
   "outputs": [],
   "source": [
    "import sys\n",
    "import os\n",
    "import yaml\n",
    "import random\n",
    "from aip import AipSpeech\n",
    "root_dir = \"/xiaobai/\"\n",
    "sys.path.append(root_dir)\n",
    "from xiaobai import XiaoBai,BaseSkill"
   ]
  },
  {
   "cell_type": "code",
   "execution_count": 3,
   "metadata": {},
   "outputs": [
    {
     "name": "stdout",
     "output_type": "stream",
     "text": [
      "出错了呢，可能网络不太好\n",
      "出错了呢，可能网络不太好\n"
     ]
    }
   ],
   "source": [
    "import broadlink,binascii\n",
    "class SwitchSkill(BaseSkill):\n",
    "    def __init__(self):\n",
    "        mac_addr = binascii.unhexlify(\"78:0f:77:c8:b4:c0\".encode().replace(b':', b''))\n",
    "        self.sw = broadlink.sp2(('192.168.31.248',80),mac_addr,None)\n",
    "        if sw.auth()!=True:\n",
    "            print('认证成功')\n",
    "        else:\n",
    "            print('认证失败，请重试')\n",
    "    #继承BaseSkill类，必须定义has_intent和action方法\n",
    "    def has_intent(self,text=\"\"):\n",
    "        for keyword in [\"打开\",\"关闭\",\"开灯\",\"关灯\"]:\n",
    "            if text.find(keyword)>= 0:\n",
    "                return True\n",
    "        return False\n",
    "    def action(self,text=\"\",callback=print):\n",
    "        try:\n",
    "            for keyword in [\"打开\",\"开灯\"]:\n",
    "                if text.find(keyword)>= 0:\n",
    "                    self.sw.set_power(1)\n",
    "                    callback(\"已执行，\"+text)\n",
    "                    return\n",
    "            for keyword in [\"关闭\",\"关灯\"]:\n",
    "                if text.find(keyword)>= 0:\n",
    "                    self.sw.set_power(0)      \n",
    "                    callback(\"已执行，\"+text)\n",
    "                    return\n",
    "        except:\n",
    "            callback(\"出错了呢，可能网络不太好\")\n",
    "if __name__ == '__main__':\n",
    "    import time\n",
    "    s = SwitchSkill()\n",
    "    s.handle(\"开灯\")\n",
    "    time.sleep(1)\n",
    "    s.handle(\"关灯\")"
   ]
  },
  {
   "cell_type": "code",
   "execution_count": null,
   "metadata": {},
   "outputs": [],
   "source": [
    "keyword_model = root_dir+'resources/小白.pmdl'\n",
    "xiaobai = XiaoBai(keyword_model=keyword_model)\n",
    "xiaobai.add_skill(SwitchSkill())\n",
    "xiaobai.listen_for_keyword()"
   ]
  }
 ],
 "metadata": {
  "kernelspec": {
   "display_name": "Python 3",
   "language": "python",
   "name": "python3"
  },
  "language_info": {
   "codemirror_mode": {
    "name": "ipython",
    "version": 3
   },
   "file_extension": ".py",
   "mimetype": "text/x-python",
   "name": "python",
   "nbconvert_exporter": "python",
   "pygments_lexer": "ipython3",
   "version": "3.5.3"
  }
 },
 "nbformat": 4,
 "nbformat_minor": 2
}
